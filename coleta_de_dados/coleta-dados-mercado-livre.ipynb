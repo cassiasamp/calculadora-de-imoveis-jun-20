{
 "cells": [
  {
   "cell_type": "markdown",
   "metadata": {},
   "source": [
    "## Coletando dados de zonas e páginas do mercado livre e salvando em um dataframe"
   ]
  },
  {
   "cell_type": "code",
   "execution_count": 1,
   "metadata": {},
   "outputs": [],
   "source": [
    "import requests\n",
    "from bs4 import BeautifulSoup\n",
    "import re\n",
    "import numpy as np\n",
    "import pandas as pd\n",
    "from time import sleep"
   ]
  },
  {
   "cell_type": "code",
   "execution_count": 3,
   "metadata": {},
   "outputs": [],
   "source": [
    "zonas = ['sul', 'norte', 'leste', 'oeste']\n",
    "paginas = ['', '_Desde_49', '_Desde_97', '_Desde_145', '_Desde_193', '_Desde_241']"
   ]
  },
  {
   "cell_type": "code",
   "execution_count": 4,
   "metadata": {},
   "outputs": [],
   "source": [
    "url_ml = 'https://imoveis.mercadolivre.com.br/casas/aluguel/sao-paulo/sao-paulo-zona-{}/{}' "
   ]
  },
  {
   "cell_type": "code",
   "execution_count": 5,
   "metadata": {},
   "outputs": [],
   "source": [
    "def funcao_zona(zona):\n",
    "    lista_zonas = []\n",
    "    lista_zonas.append(zona)"
   ]
  },
  {
   "cell_type": "code",
   "execution_count": 6,
   "metadata": {},
   "outputs": [
    {
     "name": "stdout",
     "output_type": "stream",
     "text": [
      " sul\n",
      "_Desde_49 sul\n",
      "_Desde_97 sul\n",
      "_Desde_145 sul\n",
      "_Desde_193 sul\n",
      "_Desde_241 sul\n",
      " norte\n",
      "_Desde_49 norte\n",
      "_Desde_97 norte\n",
      "_Desde_145 norte\n",
      "_Desde_193 norte\n",
      "_Desde_241 norte\n",
      " leste\n",
      "_Desde_49 leste\n",
      "_Desde_97 leste\n",
      "_Desde_145 leste\n",
      "_Desde_193 leste\n",
      "_Desde_241 leste\n",
      " oeste\n",
      "_Desde_49 oeste\n",
      "_Desde_97 oeste\n",
      "_Desde_145 oeste\n",
      "_Desde_193 oeste\n",
      "_Desde_241 oeste\n"
     ]
    }
   ],
   "source": [
    "for zona in zonas:\n",
    "    for pagina in paginas:\n",
    "        funcao_zona(zona)\n",
    "        print(pagina, zona)"
   ]
  },
  {
   "cell_type": "code",
   "execution_count": 7,
   "metadata": {},
   "outputs": [],
   "source": [
    "re_quarto ='\\| (.*) quarto'\n",
    "re_area = '> (.*) m²'"
   ]
  },
  {
   "cell_type": "code",
   "execution_count": 8,
   "metadata": {},
   "outputs": [],
   "source": [
    "def coleta_dados(url, zona):\n",
    "\n",
    "    conteudo = requests.get(url).content\n",
    "    sopa = BeautifulSoup(conteudo)\n",
    "    \n",
    "    precos = sopa.find_all('span', class_='price__fraction')\n",
    "    areas_e_quartos = sopa.find_all('div', class_='item__attrs')\n",
    "    \n",
    "    lista_areas = []\n",
    "    lista_quartos = []\n",
    "    lista_precos = []\n",
    "    lista_zonas = []\n",
    "    \n",
    "    for padrao in precos:\n",
    "        preco = re.findall('<span class=\"price__fraction\">(.*)</span>', str(padrao))\n",
    "        lista_precos.append(preco[0].replace('.', ''))\n",
    "    \n",
    "    for elemento in areas_e_quartos:\n",
    "        quarto = re.findall(re_quarto, str(elemento))\n",
    "        area = re.findall(re_area, str(elemento))\n",
    "        \n",
    "        if quarto==[]:\n",
    "            quarto=np.nan\n",
    "        else:\n",
    "            quarto=quarto[0]\n",
    "        \n",
    "        if area==[]:\n",
    "            area=np.nan\n",
    "        else:\n",
    "            area=area[0]\n",
    "\n",
    "        lista_quartos.append(quarto)\n",
    "        lista_areas.append(area)\n",
    "        lista_zonas.append(zona)\n",
    "\n",
    "    dados = {'zona': lista_zonas,\n",
    "             'quartos': lista_quartos,\n",
    "             'area': lista_areas,\n",
    "             'preco': lista_precos}\n",
    "\n",
    "    df = pd.DataFrame(dados)  \n",
    "    return df"
   ]
  },
  {
   "cell_type": "code",
   "execution_count": 9,
   "metadata": {},
   "outputs": [
    {
     "name": "stdout",
     "output_type": "stream",
     "text": [
      "Carregando a url https://imoveis.mercadolivre.com.br/casas/aluguel/sao-paulo/sao-paulo-zona-sul/\n",
      "Carregando a url https://imoveis.mercadolivre.com.br/casas/aluguel/sao-paulo/sao-paulo-zona-sul/_Desde_49\n",
      "Carregando a url https://imoveis.mercadolivre.com.br/casas/aluguel/sao-paulo/sao-paulo-zona-sul/_Desde_97\n",
      "Carregando a url https://imoveis.mercadolivre.com.br/casas/aluguel/sao-paulo/sao-paulo-zona-sul/_Desde_145\n",
      "Carregando a url https://imoveis.mercadolivre.com.br/casas/aluguel/sao-paulo/sao-paulo-zona-sul/_Desde_193\n",
      "Carregando a url https://imoveis.mercadolivre.com.br/casas/aluguel/sao-paulo/sao-paulo-zona-sul/_Desde_241\n",
      "Carregando a url https://imoveis.mercadolivre.com.br/casas/aluguel/sao-paulo/sao-paulo-zona-norte/\n",
      "Carregando a url https://imoveis.mercadolivre.com.br/casas/aluguel/sao-paulo/sao-paulo-zona-norte/_Desde_49\n",
      "Carregando a url https://imoveis.mercadolivre.com.br/casas/aluguel/sao-paulo/sao-paulo-zona-norte/_Desde_97\n",
      "Carregando a url https://imoveis.mercadolivre.com.br/casas/aluguel/sao-paulo/sao-paulo-zona-norte/_Desde_145\n",
      "Carregando a url https://imoveis.mercadolivre.com.br/casas/aluguel/sao-paulo/sao-paulo-zona-norte/_Desde_193\n",
      "Carregando a url https://imoveis.mercadolivre.com.br/casas/aluguel/sao-paulo/sao-paulo-zona-norte/_Desde_241\n",
      "Carregando a url https://imoveis.mercadolivre.com.br/casas/aluguel/sao-paulo/sao-paulo-zona-leste/\n",
      "Carregando a url https://imoveis.mercadolivre.com.br/casas/aluguel/sao-paulo/sao-paulo-zona-leste/_Desde_49\n",
      "Carregando a url https://imoveis.mercadolivre.com.br/casas/aluguel/sao-paulo/sao-paulo-zona-leste/_Desde_97\n",
      "Carregando a url https://imoveis.mercadolivre.com.br/casas/aluguel/sao-paulo/sao-paulo-zona-leste/_Desde_145\n",
      "Carregando a url https://imoveis.mercadolivre.com.br/casas/aluguel/sao-paulo/sao-paulo-zona-leste/_Desde_193\n",
      "Carregando a url https://imoveis.mercadolivre.com.br/casas/aluguel/sao-paulo/sao-paulo-zona-leste/_Desde_241\n",
      "Carregando a url https://imoveis.mercadolivre.com.br/casas/aluguel/sao-paulo/sao-paulo-zona-oeste/\n",
      "Carregando a url https://imoveis.mercadolivre.com.br/casas/aluguel/sao-paulo/sao-paulo-zona-oeste/_Desde_49\n",
      "Carregando a url https://imoveis.mercadolivre.com.br/casas/aluguel/sao-paulo/sao-paulo-zona-oeste/_Desde_97\n",
      "Carregando a url https://imoveis.mercadolivre.com.br/casas/aluguel/sao-paulo/sao-paulo-zona-oeste/_Desde_145\n",
      "Carregando a url https://imoveis.mercadolivre.com.br/casas/aluguel/sao-paulo/sao-paulo-zona-oeste/_Desde_193\n",
      "Carregando a url https://imoveis.mercadolivre.com.br/casas/aluguel/sao-paulo/sao-paulo-zona-oeste/_Desde_241\n",
      "Dados coletados!\n"
     ]
    }
   ],
   "source": [
    "lista_dfs = []\n",
    "for zona in zonas:\n",
    "    for pagina in paginas:\n",
    "        url = url_ml.format(zona, pagina)\n",
    "        df = coleta_dados(url, zona)\n",
    "        print('Carregando a url', url)\n",
    "        lista_dfs.append(df)\n",
    "        sleep(2)\n",
    "print('Dados coletados!')"
   ]
  },
  {
   "cell_type": "code",
   "execution_count": 10,
   "metadata": {},
   "outputs": [],
   "source": [
    "dados = pd.concat(lista_dfs)"
   ]
  },
  {
   "cell_type": "code",
   "execution_count": 11,
   "metadata": {},
   "outputs": [
    {
     "data": {
      "text/html": [
       "<div>\n",
       "<style scoped>\n",
       "    .dataframe tbody tr th:only-of-type {\n",
       "        vertical-align: middle;\n",
       "    }\n",
       "\n",
       "    .dataframe tbody tr th {\n",
       "        vertical-align: top;\n",
       "    }\n",
       "\n",
       "    .dataframe thead th {\n",
       "        text-align: right;\n",
       "    }\n",
       "</style>\n",
       "<table border=\"1\" class=\"dataframe\">\n",
       "  <thead>\n",
       "    <tr style=\"text-align: right;\">\n",
       "      <th></th>\n",
       "      <th>zona</th>\n",
       "      <th>quartos</th>\n",
       "      <th>area</th>\n",
       "      <th>preco</th>\n",
       "    </tr>\n",
       "  </thead>\n",
       "  <tbody>\n",
       "    <tr>\n",
       "      <th>0</th>\n",
       "      <td>sul</td>\n",
       "      <td>1</td>\n",
       "      <td>45</td>\n",
       "      <td>950</td>\n",
       "    </tr>\n",
       "    <tr>\n",
       "      <th>1</th>\n",
       "      <td>sul</td>\n",
       "      <td>3</td>\n",
       "      <td>217</td>\n",
       "      <td>7000</td>\n",
       "    </tr>\n",
       "    <tr>\n",
       "      <th>2</th>\n",
       "      <td>sul</td>\n",
       "      <td>4</td>\n",
       "      <td>320</td>\n",
       "      <td>7000</td>\n",
       "    </tr>\n",
       "    <tr>\n",
       "      <th>3</th>\n",
       "      <td>sul</td>\n",
       "      <td>5</td>\n",
       "      <td>398</td>\n",
       "      <td>7000</td>\n",
       "    </tr>\n",
       "    <tr>\n",
       "      <th>4</th>\n",
       "      <td>sul</td>\n",
       "      <td>NaN</td>\n",
       "      <td>185</td>\n",
       "      <td>7000</td>\n",
       "    </tr>\n",
       "    <tr>\n",
       "      <th>...</th>\n",
       "      <td>...</td>\n",
       "      <td>...</td>\n",
       "      <td>...</td>\n",
       "      <td>...</td>\n",
       "    </tr>\n",
       "    <tr>\n",
       "      <th>43</th>\n",
       "      <td>oeste</td>\n",
       "      <td>2</td>\n",
       "      <td>71</td>\n",
       "      <td>1300</td>\n",
       "    </tr>\n",
       "    <tr>\n",
       "      <th>44</th>\n",
       "      <td>oeste</td>\n",
       "      <td>2</td>\n",
       "      <td>200</td>\n",
       "      <td>3000</td>\n",
       "    </tr>\n",
       "    <tr>\n",
       "      <th>45</th>\n",
       "      <td>oeste</td>\n",
       "      <td>1</td>\n",
       "      <td>40</td>\n",
       "      <td>1200</td>\n",
       "    </tr>\n",
       "    <tr>\n",
       "      <th>46</th>\n",
       "      <td>oeste</td>\n",
       "      <td>2</td>\n",
       "      <td>62</td>\n",
       "      <td>1300</td>\n",
       "    </tr>\n",
       "    <tr>\n",
       "      <th>47</th>\n",
       "      <td>oeste</td>\n",
       "      <td>1</td>\n",
       "      <td>32</td>\n",
       "      <td>730</td>\n",
       "    </tr>\n",
       "  </tbody>\n",
       "</table>\n",
       "<p>1008 rows × 4 columns</p>\n",
       "</div>"
      ],
      "text/plain": [
       "     zona quartos area preco\n",
       "0     sul       1   45   950\n",
       "1     sul       3  217  7000\n",
       "2     sul       4  320  7000\n",
       "3     sul       5  398  7000\n",
       "4     sul     NaN  185  7000\n",
       "..    ...     ...  ...   ...\n",
       "43  oeste       2   71  1300\n",
       "44  oeste       2  200  3000\n",
       "45  oeste       1   40  1200\n",
       "46  oeste       2   62  1300\n",
       "47  oeste       1   32   730\n",
       "\n",
       "[1008 rows x 4 columns]"
      ]
     },
     "execution_count": 11,
     "metadata": {},
     "output_type": "execute_result"
    }
   ],
   "source": [
    "dados"
   ]
  },
  {
   "cell_type": "code",
   "execution_count": 12,
   "metadata": {},
   "outputs": [],
   "source": [
    "dados.to_csv('dados_mercado_livre.csv', index=False)"
   ]
  },
  {
   "cell_type": "code",
   "execution_count": 13,
   "metadata": {},
   "outputs": [],
   "source": [
    "df = pd.read_csv('dados_mercado_livre.csv')"
   ]
  },
  {
   "cell_type": "code",
   "execution_count": 14,
   "metadata": {},
   "outputs": [
    {
     "data": {
      "text/plain": [
       "pandas.core.frame.DataFrame"
      ]
     },
     "execution_count": 14,
     "metadata": {},
     "output_type": "execute_result"
    }
   ],
   "source": [
    "type(dados)"
   ]
  },
  {
   "cell_type": "code",
   "execution_count": 27,
   "metadata": {},
   "outputs": [],
   "source": [
    "# pd.DataFrame.to_csv?"
   ]
  },
  {
   "cell_type": "code",
   "execution_count": 15,
   "metadata": {},
   "outputs": [
    {
     "name": "stdout",
     "output_type": "stream",
     "text": [
      "<class 'pandas.core.frame.DataFrame'>\n",
      "RangeIndex: 1008 entries, 0 to 1007\n",
      "Data columns (total 4 columns):\n",
      " #   Column   Non-Null Count  Dtype  \n",
      "---  ------   --------------  -----  \n",
      " 0   zona     1008 non-null   object \n",
      " 1   quartos  876 non-null    float64\n",
      " 2   area     991 non-null    float64\n",
      " 3   preco    1008 non-null   int64  \n",
      "dtypes: float64(2), int64(1), object(1)\n",
      "memory usage: 31.6+ KB\n"
     ]
    }
   ],
   "source": [
    "df.info()"
   ]
  },
  {
   "cell_type": "code",
   "execution_count": 16,
   "metadata": {},
   "outputs": [
    {
     "data": {
      "text/plain": [
       "zona       1008\n",
       "quartos     876\n",
       "area        991\n",
       "preco      1008\n",
       "dtype: int64"
      ]
     },
     "execution_count": 16,
     "metadata": {},
     "output_type": "execute_result"
    }
   ],
   "source": [
    "df.count()"
   ]
  },
  {
   "cell_type": "code",
   "execution_count": 17,
   "metadata": {},
   "outputs": [
    {
     "data": {
      "text/plain": [
       "zona         0\n",
       "quartos    132\n",
       "area        17\n",
       "preco        0\n",
       "dtype: int64"
      ]
     },
     "execution_count": 17,
     "metadata": {},
     "output_type": "execute_result"
    }
   ],
   "source": [
    "df.isnull().sum()"
   ]
  },
  {
   "cell_type": "code",
   "execution_count": 18,
   "metadata": {},
   "outputs": [
    {
     "data": {
      "text/plain": [
       "(1008, 4)"
      ]
     },
     "execution_count": 18,
     "metadata": {},
     "output_type": "execute_result"
    }
   ],
   "source": [
    "df.shape # linhas, colunas"
   ]
  },
  {
   "cell_type": "code",
   "execution_count": null,
   "metadata": {},
   "outputs": [],
   "source": []
  }
 ],
 "metadata": {
  "kernelspec": {
   "display_name": "Python 3",
   "language": "python",
   "name": "python3"
  },
  "language_info": {
   "codemirror_mode": {
    "name": "ipython",
    "version": 3
   },
   "file_extension": ".py",
   "mimetype": "text/x-python",
   "name": "python",
   "nbconvert_exporter": "python",
   "pygments_lexer": "ipython3",
   "version": "3.8.4"
  }
 },
 "nbformat": 4,
 "nbformat_minor": 4
}
